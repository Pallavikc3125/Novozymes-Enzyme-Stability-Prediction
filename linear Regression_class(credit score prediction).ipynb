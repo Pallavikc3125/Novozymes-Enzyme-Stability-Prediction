{
 "cells": [
  {
   "cell_type": "code",
   "execution_count": 5,
   "id": "a6345fcd",
   "metadata": {},
   "outputs": [],
   "source": [
    "# importing required packages \n",
    "\n",
    "import pandas as pd\n",
    "import numpy as np\n",
    "from sklearn.model_selection import train_test_split\n",
    "from sklearn.neighbors import KNeighborsClassifier\n",
    "from sklearn.linear_model import LinearRegression\n",
    "from sklearn.preprocessing import StandardScaler\n",
    "from sklearn.model_selection import GridSearchCV\n",
    "from sklearn.metrics import accuracy_score"
   ]
  },
  {
   "cell_type": "code",
   "execution_count": 6,
   "id": "c5400e6d",
   "metadata": {},
   "outputs": [],
   "source": [
    "# to read the data\n",
    "\n",
    "df = pd.read_csv('.\\CreditScore_train.csv')"
   ]
  },
  {
   "cell_type": "code",
   "execution_count": 7,
   "id": "4ccd7003",
   "metadata": {},
   "outputs": [
    {
     "data": {
      "text/plain": [
       "(80000, 305)"
      ]
     },
     "execution_count": 7,
     "metadata": {},
     "output_type": "execute_result"
    }
   ],
   "source": [
    "# to check the no of rows and columns\n",
    "\n",
    "df.shape"
   ]
  },
  {
   "cell_type": "code",
   "execution_count": 8,
   "id": "9e928688",
   "metadata": {},
   "outputs": [
    {
     "data": {
      "text/plain": [
       "<bound method NDFrame.head of           x001   x002  x003   x004   x005  x006  x007  x008  x009  x010  ...  \\\n",
       "0      1084094  426.0  39.0  128.0  426.0     0     0     0     0     0  ...   \n",
       "1      1287777  160.0   2.0   64.0  160.0     1     1     2     0     1  ...   \n",
       "2      1483016  163.0  16.0  104.0  239.0     0     0     0     1     0  ...   \n",
       "3       959054    NaN   NaN    NaN  102.0     0     0     0     0     0  ...   \n",
       "4      1342113    3.0   2.0    2.0   62.0     0     2     2     0     0  ...   \n",
       "...        ...    ...   ...    ...    ...   ...   ...   ...   ...   ...  ...   \n",
       "79995  1482075    2.0   2.0    2.0    2.0     0     1     1     0     0  ...   \n",
       "79996   994459   75.0  24.0   48.0  269.0     0     0     0     0     2  ...   \n",
       "79997  1168324  135.0   3.0   50.0  135.0     0     1     1     0     1  ...   \n",
       "79998  1307105  132.0   1.0   41.0  366.0     0     1     2     0     1  ...   \n",
       "79999   405160   94.0   3.0   27.0  109.0     0     2     2     8    11  ...   \n",
       "\n",
       "        x296    x297  x298  x299  x300  x301  x302   x303    x304    y  \n",
       "0          0     NaN     0     0     0     0   NaN      0     NaN  807  \n",
       "1      17318  0.8417     1     1     1     0   NaN      0     NaN  819  \n",
       "2          0     NaN     0     0     0     0   NaN      0     NaN  803  \n",
       "3          0     NaN     1     1     1     0   NaN      0     NaN  530  \n",
       "4      17413  1.0180     1     1     1     0   NaN      0     NaN  485  \n",
       "...      ...     ...   ...   ...   ...   ...   ...    ...     ...  ...  \n",
       "79995  12855  1.0000     1     1     1     0   NaN      0     NaN  514  \n",
       "79996      0     NaN     0     0     0     0   NaN      0     NaN  810  \n",
       "79997  20977  0.9982     1     1     1     0   NaN      0     NaN  711  \n",
       "79998  35621  0.7509     1     1     1     0   NaN      0     NaN  684  \n",
       "79999  44451  1.0286     1     1     1     0   1.0  44451  1.0286  465  \n",
       "\n",
       "[80000 rows x 305 columns]>"
      ]
     },
     "execution_count": 8,
     "metadata": {},
     "output_type": "execute_result"
    }
   ],
   "source": [
    "df.head"
   ]
  },
  {
   "attachments": {},
   "cell_type": "markdown",
   "id": "d5c836da",
   "metadata": {},
   "source": [
    "we check for null percentage , if its more than 70 per only we drop that column other columns should be filled to know both column name and value we create data frame in pandas ,do in following way:"
   ]
  },
  {
   "cell_type": "code",
   "execution_count": 9,
   "id": "d0e97fff",
   "metadata": {},
   "outputs": [
    {
     "data": {
      "text/plain": [
       "x001        0\n",
       "x002    17185\n",
       "x003    17185\n",
       "x004    17181\n",
       "x005     4867\n",
       "        ...  \n",
       "x301        0\n",
       "x302    58471\n",
       "x303        0\n",
       "x304    65456\n",
       "y           0\n",
       "Length: 305, dtype: int64"
      ]
     },
     "execution_count": 9,
     "metadata": {},
     "output_type": "execute_result"
    }
   ],
   "source": [
    "# to find the null value\n",
    "df.isnull().sum()"
   ]
  },
  {
   "cell_type": "code",
   "execution_count": 10,
   "id": "b130479a",
   "metadata": {},
   "outputs": [
    {
     "data": {
      "text/html": [
       "<div>\n",
       "<style scoped>\n",
       "    .dataframe tbody tr th:only-of-type {\n",
       "        vertical-align: middle;\n",
       "    }\n",
       "\n",
       "    .dataframe tbody tr th {\n",
       "        vertical-align: top;\n",
       "    }\n",
       "\n",
       "    .dataframe thead th {\n",
       "        text-align: right;\n",
       "    }\n",
       "</style>\n",
       "<table border=\"1\" class=\"dataframe\">\n",
       "  <thead>\n",
       "    <tr style=\"text-align: right;\">\n",
       "      <th></th>\n",
       "      <th>0</th>\n",
       "    </tr>\n",
       "  </thead>\n",
       "  <tbody>\n",
       "    <tr>\n",
       "      <th>x001</th>\n",
       "      <td>0</td>\n",
       "    </tr>\n",
       "    <tr>\n",
       "      <th>x002</th>\n",
       "      <td>17185</td>\n",
       "    </tr>\n",
       "    <tr>\n",
       "      <th>x003</th>\n",
       "      <td>17185</td>\n",
       "    </tr>\n",
       "    <tr>\n",
       "      <th>x004</th>\n",
       "      <td>17181</td>\n",
       "    </tr>\n",
       "    <tr>\n",
       "      <th>x005</th>\n",
       "      <td>4867</td>\n",
       "    </tr>\n",
       "    <tr>\n",
       "      <th>...</th>\n",
       "      <td>...</td>\n",
       "    </tr>\n",
       "    <tr>\n",
       "      <th>x301</th>\n",
       "      <td>0</td>\n",
       "    </tr>\n",
       "    <tr>\n",
       "      <th>x302</th>\n",
       "      <td>58471</td>\n",
       "    </tr>\n",
       "    <tr>\n",
       "      <th>x303</th>\n",
       "      <td>0</td>\n",
       "    </tr>\n",
       "    <tr>\n",
       "      <th>x304</th>\n",
       "      <td>65456</td>\n",
       "    </tr>\n",
       "    <tr>\n",
       "      <th>y</th>\n",
       "      <td>0</td>\n",
       "    </tr>\n",
       "  </tbody>\n",
       "</table>\n",
       "<p>305 rows × 1 columns</p>\n",
       "</div>"
      ],
      "text/plain": [
       "          0\n",
       "x001      0\n",
       "x002  17185\n",
       "x003  17185\n",
       "x004  17181\n",
       "x005   4867\n",
       "...     ...\n",
       "x301      0\n",
       "x302  58471\n",
       "x303      0\n",
       "x304  65456\n",
       "y         0\n",
       "\n",
       "[305 rows x 1 columns]"
      ]
     },
     "execution_count": 10,
     "metadata": {},
     "output_type": "execute_result"
    }
   ],
   "source": [
    "# to get the index of data\n",
    "\n",
    "a = pd.DataFrame(df.isnull().sum())\n",
    "a"
   ]
  },
  {
   "cell_type": "code",
   "execution_count": 11,
   "id": "33210fa9",
   "metadata": {},
   "outputs": [],
   "source": [
    "# to get the columns null value greater than 70%\n",
    "\n",
    "col = []\n",
    "for i, r in a.iterrows():\n",
    "    if (r[0] / df.shape[0]) * 100 > 70:\n",
    "        col.append(i)"
   ]
  },
  {
   "cell_type": "code",
   "execution_count": 12,
   "id": "4c84e73f",
   "metadata": {},
   "outputs": [
    {
     "data": {
      "text/plain": [
       "['x098',\n",
       " 'x155',\n",
       " 'x242',\n",
       " 'x255',\n",
       " 'x256',\n",
       " 'x257',\n",
       " 'x259',\n",
       " 'x295',\n",
       " 'x302',\n",
       " 'x304']"
      ]
     },
     "execution_count": 12,
     "metadata": {},
     "output_type": "execute_result"
    }
   ],
   "source": [
    "col"
   ]
  },
  {
   "cell_type": "code",
   "execution_count": 13,
   "id": "5ac239c3",
   "metadata": {},
   "outputs": [
    {
     "data": {
      "text/plain": [
       "10"
      ]
     },
     "execution_count": 13,
     "metadata": {},
     "output_type": "execute_result"
    }
   ],
   "source": [
    "len(col)"
   ]
  },
  {
   "cell_type": "code",
   "execution_count": 14,
   "id": "0f92f426",
   "metadata": {},
   "outputs": [],
   "source": [
    "# drop columns null value greater than 70%\n",
    "\n",
    "df.drop(col, axis=1, inplace = True)"
   ]
  },
  {
   "cell_type": "code",
   "execution_count": 15,
   "id": "ebb74294",
   "metadata": {},
   "outputs": [
    {
     "data": {
      "text/html": [
       "<div>\n",
       "<style scoped>\n",
       "    .dataframe tbody tr th:only-of-type {\n",
       "        vertical-align: middle;\n",
       "    }\n",
       "\n",
       "    .dataframe tbody tr th {\n",
       "        vertical-align: top;\n",
       "    }\n",
       "\n",
       "    .dataframe thead th {\n",
       "        text-align: right;\n",
       "    }\n",
       "</style>\n",
       "<table border=\"1\" class=\"dataframe\">\n",
       "  <thead>\n",
       "    <tr style=\"text-align: right;\">\n",
       "      <th></th>\n",
       "      <th>x001</th>\n",
       "      <th>x002</th>\n",
       "      <th>x003</th>\n",
       "      <th>x004</th>\n",
       "      <th>x005</th>\n",
       "      <th>x006</th>\n",
       "      <th>x007</th>\n",
       "      <th>x008</th>\n",
       "      <th>x009</th>\n",
       "      <th>x010</th>\n",
       "      <th>...</th>\n",
       "      <th>x293</th>\n",
       "      <th>x294</th>\n",
       "      <th>x296</th>\n",
       "      <th>x297</th>\n",
       "      <th>x298</th>\n",
       "      <th>x299</th>\n",
       "      <th>x300</th>\n",
       "      <th>x301</th>\n",
       "      <th>x303</th>\n",
       "      <th>y</th>\n",
       "    </tr>\n",
       "  </thead>\n",
       "  <tbody>\n",
       "    <tr>\n",
       "      <th>count</th>\n",
       "      <td>8.000000e+04</td>\n",
       "      <td>62815.000000</td>\n",
       "      <td>62815.000000</td>\n",
       "      <td>62819.000000</td>\n",
       "      <td>75133.000000</td>\n",
       "      <td>80000.000000</td>\n",
       "      <td>80000.000000</td>\n",
       "      <td>80000.000000</td>\n",
       "      <td>80000.000000</td>\n",
       "      <td>80000.000000</td>\n",
       "      <td>...</td>\n",
       "      <td>39109.000000</td>\n",
       "      <td>80000.000000</td>\n",
       "      <td>8.000000e+04</td>\n",
       "      <td>33562.000000</td>\n",
       "      <td>80000.000000</td>\n",
       "      <td>80000.000000</td>\n",
       "      <td>80000.000000</td>\n",
       "      <td>80000.000000</td>\n",
       "      <td>80000.000000</td>\n",
       "      <td>80000.000000</td>\n",
       "    </tr>\n",
       "    <tr>\n",
       "      <th>mean</th>\n",
       "      <td>1.218319e+06</td>\n",
       "      <td>125.607307</td>\n",
       "      <td>25.582520</td>\n",
       "      <td>65.379646</td>\n",
       "      <td>178.043563</td>\n",
       "      <td>0.313787</td>\n",
       "      <td>0.692450</td>\n",
       "      <td>1.385575</td>\n",
       "      <td>1.188738</td>\n",
       "      <td>1.026825</td>\n",
       "      <td>...</td>\n",
       "      <td>0.812702</td>\n",
       "      <td>2754.074875</td>\n",
       "      <td>1.189691e+04</td>\n",
       "      <td>0.794797</td>\n",
       "      <td>0.543787</td>\n",
       "      <td>0.558600</td>\n",
       "      <td>0.582375</td>\n",
       "      <td>0.105762</td>\n",
       "      <td>6443.203675</td>\n",
       "      <td>619.397762</td>\n",
       "    </tr>\n",
       "    <tr>\n",
       "      <th>std</th>\n",
       "      <td>2.730146e+05</td>\n",
       "      <td>115.662548</td>\n",
       "      <td>49.067905</td>\n",
       "      <td>63.528938</td>\n",
       "      <td>124.431075</td>\n",
       "      <td>0.464034</td>\n",
       "      <td>1.364931</td>\n",
       "      <td>2.274164</td>\n",
       "      <td>2.014353</td>\n",
       "      <td>1.715173</td>\n",
       "      <td>...</td>\n",
       "      <td>0.315029</td>\n",
       "      <td>13013.804143</td>\n",
       "      <td>3.325378e+04</td>\n",
       "      <td>0.281969</td>\n",
       "      <td>0.498082</td>\n",
       "      <td>0.496557</td>\n",
       "      <td>0.493171</td>\n",
       "      <td>0.307535</td>\n",
       "      <td>24319.031452</td>\n",
       "      <td>118.357217</td>\n",
       "    </tr>\n",
       "    <tr>\n",
       "      <th>min</th>\n",
       "      <td>5.170000e+02</td>\n",
       "      <td>0.000000</td>\n",
       "      <td>0.000000</td>\n",
       "      <td>0.000000</td>\n",
       "      <td>0.000000</td>\n",
       "      <td>0.000000</td>\n",
       "      <td>0.000000</td>\n",
       "      <td>0.000000</td>\n",
       "      <td>0.000000</td>\n",
       "      <td>0.000000</td>\n",
       "      <td>...</td>\n",
       "      <td>0.000000</td>\n",
       "      <td>0.000000</td>\n",
       "      <td>0.000000e+00</td>\n",
       "      <td>0.000000</td>\n",
       "      <td>0.000000</td>\n",
       "      <td>0.000000</td>\n",
       "      <td>0.000000</td>\n",
       "      <td>0.000000</td>\n",
       "      <td>0.000000</td>\n",
       "      <td>300.000000</td>\n",
       "    </tr>\n",
       "    <tr>\n",
       "      <th>25%</th>\n",
       "      <td>9.745528e+05</td>\n",
       "      <td>32.000000</td>\n",
       "      <td>3.000000</td>\n",
       "      <td>19.000000</td>\n",
       "      <td>87.000000</td>\n",
       "      <td>0.000000</td>\n",
       "      <td>0.000000</td>\n",
       "      <td>0.000000</td>\n",
       "      <td>0.000000</td>\n",
       "      <td>0.000000</td>\n",
       "      <td>...</td>\n",
       "      <td>0.641000</td>\n",
       "      <td>0.000000</td>\n",
       "      <td>0.000000e+00</td>\n",
       "      <td>0.638325</td>\n",
       "      <td>0.000000</td>\n",
       "      <td>0.000000</td>\n",
       "      <td>0.000000</td>\n",
       "      <td>0.000000</td>\n",
       "      <td>0.000000</td>\n",
       "      <td>524.000000</td>\n",
       "    </tr>\n",
       "    <tr>\n",
       "      <th>50%</th>\n",
       "      <td>1.235833e+06</td>\n",
       "      <td>100.000000</td>\n",
       "      <td>8.000000</td>\n",
       "      <td>48.000000</td>\n",
       "      <td>150.000000</td>\n",
       "      <td>0.000000</td>\n",
       "      <td>0.000000</td>\n",
       "      <td>1.000000</td>\n",
       "      <td>0.000000</td>\n",
       "      <td>0.000000</td>\n",
       "      <td>...</td>\n",
       "      <td>0.860900</td>\n",
       "      <td>0.000000</td>\n",
       "      <td>0.000000e+00</td>\n",
       "      <td>0.852600</td>\n",
       "      <td>1.000000</td>\n",
       "      <td>1.000000</td>\n",
       "      <td>1.000000</td>\n",
       "      <td>0.000000</td>\n",
       "      <td>0.000000</td>\n",
       "      <td>599.000000</td>\n",
       "    </tr>\n",
       "    <tr>\n",
       "      <th>75%</th>\n",
       "      <td>1.445546e+06</td>\n",
       "      <td>180.000000</td>\n",
       "      <td>24.000000</td>\n",
       "      <td>92.000000</td>\n",
       "      <td>246.000000</td>\n",
       "      <td>1.000000</td>\n",
       "      <td>1.000000</td>\n",
       "      <td>2.000000</td>\n",
       "      <td>2.000000</td>\n",
       "      <td>1.000000</td>\n",
       "      <td>...</td>\n",
       "      <td>0.997800</td>\n",
       "      <td>0.000000</td>\n",
       "      <td>1.299750e+04</td>\n",
       "      <td>0.982100</td>\n",
       "      <td>1.000000</td>\n",
       "      <td>1.000000</td>\n",
       "      <td>1.000000</td>\n",
       "      <td>0.000000</td>\n",
       "      <td>0.000000</td>\n",
       "      <td>719.000000</td>\n",
       "    </tr>\n",
       "    <tr>\n",
       "      <th>max</th>\n",
       "      <td>1.677197e+06</td>\n",
       "      <td>718.000000</td>\n",
       "      <td>704.000000</td>\n",
       "      <td>704.000000</td>\n",
       "      <td>790.000000</td>\n",
       "      <td>1.000000</td>\n",
       "      <td>43.000000</td>\n",
       "      <td>108.000000</td>\n",
       "      <td>78.000000</td>\n",
       "      <td>33.000000</td>\n",
       "      <td>...</td>\n",
       "      <td>18.399900</td>\n",
       "      <td>653210.000000</td>\n",
       "      <td>2.696702e+06</td>\n",
       "      <td>4.691900</td>\n",
       "      <td>1.000000</td>\n",
       "      <td>1.000000</td>\n",
       "      <td>1.000000</td>\n",
       "      <td>1.000000</td>\n",
       "      <td>785537.000000</td>\n",
       "      <td>839.000000</td>\n",
       "    </tr>\n",
       "  </tbody>\n",
       "</table>\n",
       "<p>8 rows × 295 columns</p>\n",
       "</div>"
      ],
      "text/plain": [
       "               x001          x002          x003          x004          x005  \\\n",
       "count  8.000000e+04  62815.000000  62815.000000  62819.000000  75133.000000   \n",
       "mean   1.218319e+06    125.607307     25.582520     65.379646    178.043563   \n",
       "std    2.730146e+05    115.662548     49.067905     63.528938    124.431075   \n",
       "min    5.170000e+02      0.000000      0.000000      0.000000      0.000000   \n",
       "25%    9.745528e+05     32.000000      3.000000     19.000000     87.000000   \n",
       "50%    1.235833e+06    100.000000      8.000000     48.000000    150.000000   \n",
       "75%    1.445546e+06    180.000000     24.000000     92.000000    246.000000   \n",
       "max    1.677197e+06    718.000000    704.000000    704.000000    790.000000   \n",
       "\n",
       "               x006          x007          x008          x009          x010  \\\n",
       "count  80000.000000  80000.000000  80000.000000  80000.000000  80000.000000   \n",
       "mean       0.313787      0.692450      1.385575      1.188738      1.026825   \n",
       "std        0.464034      1.364931      2.274164      2.014353      1.715173   \n",
       "min        0.000000      0.000000      0.000000      0.000000      0.000000   \n",
       "25%        0.000000      0.000000      0.000000      0.000000      0.000000   \n",
       "50%        0.000000      0.000000      1.000000      0.000000      0.000000   \n",
       "75%        1.000000      1.000000      2.000000      2.000000      1.000000   \n",
       "max        1.000000     43.000000    108.000000     78.000000     33.000000   \n",
       "\n",
       "       ...          x293           x294          x296          x297  \\\n",
       "count  ...  39109.000000   80000.000000  8.000000e+04  33562.000000   \n",
       "mean   ...      0.812702    2754.074875  1.189691e+04      0.794797   \n",
       "std    ...      0.315029   13013.804143  3.325378e+04      0.281969   \n",
       "min    ...      0.000000       0.000000  0.000000e+00      0.000000   \n",
       "25%    ...      0.641000       0.000000  0.000000e+00      0.638325   \n",
       "50%    ...      0.860900       0.000000  0.000000e+00      0.852600   \n",
       "75%    ...      0.997800       0.000000  1.299750e+04      0.982100   \n",
       "max    ...     18.399900  653210.000000  2.696702e+06      4.691900   \n",
       "\n",
       "               x298          x299          x300          x301           x303  \\\n",
       "count  80000.000000  80000.000000  80000.000000  80000.000000   80000.000000   \n",
       "mean       0.543787      0.558600      0.582375      0.105762    6443.203675   \n",
       "std        0.498082      0.496557      0.493171      0.307535   24319.031452   \n",
       "min        0.000000      0.000000      0.000000      0.000000       0.000000   \n",
       "25%        0.000000      0.000000      0.000000      0.000000       0.000000   \n",
       "50%        1.000000      1.000000      1.000000      0.000000       0.000000   \n",
       "75%        1.000000      1.000000      1.000000      0.000000       0.000000   \n",
       "max        1.000000      1.000000      1.000000      1.000000  785537.000000   \n",
       "\n",
       "                  y  \n",
       "count  80000.000000  \n",
       "mean     619.397762  \n",
       "std      118.357217  \n",
       "min      300.000000  \n",
       "25%      524.000000  \n",
       "50%      599.000000  \n",
       "75%      719.000000  \n",
       "max      839.000000  \n",
       "\n",
       "[8 rows x 295 columns]"
      ]
     },
     "execution_count": 15,
     "metadata": {},
     "output_type": "execute_result"
    }
   ],
   "source": [
    "df.describe()"
   ]
  },
  {
   "attachments": {},
   "cell_type": "markdown",
   "id": "658e4990",
   "metadata": {},
   "source": [
    "from discription we check for mean and median values of the data \n",
    "and here we fill null with median (as it is always better)"
   ]
  },
  {
   "cell_type": "code",
   "execution_count": 16,
   "id": "39ae0b10",
   "metadata": {},
   "outputs": [
    {
     "data": {
      "text/html": [
       "<div>\n",
       "<style scoped>\n",
       "    .dataframe tbody tr th:only-of-type {\n",
       "        vertical-align: middle;\n",
       "    }\n",
       "\n",
       "    .dataframe tbody tr th {\n",
       "        vertical-align: top;\n",
       "    }\n",
       "\n",
       "    .dataframe thead th {\n",
       "        text-align: right;\n",
       "    }\n",
       "</style>\n",
       "<table border=\"1\" class=\"dataframe\">\n",
       "  <thead>\n",
       "    <tr style=\"text-align: right;\">\n",
       "      <th></th>\n",
       "      <th>0</th>\n",
       "    </tr>\n",
       "  </thead>\n",
       "  <tbody>\n",
       "    <tr>\n",
       "      <th>x001</th>\n",
       "      <td>0</td>\n",
       "    </tr>\n",
       "    <tr>\n",
       "      <th>x002</th>\n",
       "      <td>17185</td>\n",
       "    </tr>\n",
       "    <tr>\n",
       "      <th>x003</th>\n",
       "      <td>17185</td>\n",
       "    </tr>\n",
       "    <tr>\n",
       "      <th>x004</th>\n",
       "      <td>17181</td>\n",
       "    </tr>\n",
       "    <tr>\n",
       "      <th>x005</th>\n",
       "      <td>4867</td>\n",
       "    </tr>\n",
       "    <tr>\n",
       "      <th>...</th>\n",
       "      <td>...</td>\n",
       "    </tr>\n",
       "    <tr>\n",
       "      <th>x299</th>\n",
       "      <td>0</td>\n",
       "    </tr>\n",
       "    <tr>\n",
       "      <th>x300</th>\n",
       "      <td>0</td>\n",
       "    </tr>\n",
       "    <tr>\n",
       "      <th>x301</th>\n",
       "      <td>0</td>\n",
       "    </tr>\n",
       "    <tr>\n",
       "      <th>x303</th>\n",
       "      <td>0</td>\n",
       "    </tr>\n",
       "    <tr>\n",
       "      <th>y</th>\n",
       "      <td>0</td>\n",
       "    </tr>\n",
       "  </tbody>\n",
       "</table>\n",
       "<p>295 rows × 1 columns</p>\n",
       "</div>"
      ],
      "text/plain": [
       "          0\n",
       "x001      0\n",
       "x002  17185\n",
       "x003  17185\n",
       "x004  17181\n",
       "x005   4867\n",
       "...     ...\n",
       "x299      0\n",
       "x300      0\n",
       "x301      0\n",
       "x303      0\n",
       "y         0\n",
       "\n",
       "[295 rows x 1 columns]"
      ]
     },
     "execution_count": 16,
     "metadata": {},
     "output_type": "execute_result"
    }
   ],
   "source": [
    "a1 = pd.DataFrame(df.isnull().sum())\n",
    "a1"
   ]
  },
  {
   "cell_type": "code",
   "execution_count": 17,
   "id": "c46cd8c9",
   "metadata": {},
   "outputs": [],
   "source": [
    "# to get the columns null value greater than 0%\n",
    "\n",
    "col1 = []\n",
    "for i, r in a1.iterrows():\n",
    "    if (r[0] / df.shape[0]) * 100 > 0:\n",
    "        col1.append(i)"
   ]
  },
  {
   "cell_type": "code",
   "execution_count": 18,
   "id": "760db933",
   "metadata": {},
   "outputs": [
    {
     "data": {
      "text/plain": [
       "['x002',\n",
       " 'x003',\n",
       " 'x004',\n",
       " 'x005',\n",
       " 'x041',\n",
       " 'x044',\n",
       " 'x045',\n",
       " 'x057',\n",
       " 'x058',\n",
       " 'x148',\n",
       " 'x162',\n",
       " 'x222',\n",
       " 'x223',\n",
       " 'x234',\n",
       " 'x235',\n",
       " 'x237',\n",
       " 'x238',\n",
       " 'x239',\n",
       " 'x253',\n",
       " 'x265',\n",
       " 'x266',\n",
       " 'x267',\n",
       " 'x268',\n",
       " 'x272',\n",
       " 'x275',\n",
       " 'x287',\n",
       " 'x288',\n",
       " 'x289',\n",
       " 'x290',\n",
       " 'x293',\n",
       " 'x297']"
      ]
     },
     "execution_count": 18,
     "metadata": {},
     "output_type": "execute_result"
    }
   ],
   "source": [
    "col1"
   ]
  },
  {
   "cell_type": "code",
   "execution_count": 19,
   "id": "93eb694c",
   "metadata": {},
   "outputs": [
    {
     "data": {
      "text/plain": [
       "31"
      ]
     },
     "execution_count": 19,
     "metadata": {},
     "output_type": "execute_result"
    }
   ],
   "source": [
    "len(col1)"
   ]
  },
  {
   "cell_type": "code",
   "execution_count": 20,
   "id": "5078af33",
   "metadata": {},
   "outputs": [],
   "source": [
    "# to fill columns null value greater than 0%\n",
    "\n",
    "for i in col1:\n",
    "    df[i].fillna(df[i].median(), inplace = True)"
   ]
  },
  {
   "cell_type": "code",
   "execution_count": 21,
   "id": "16781370",
   "metadata": {},
   "outputs": [
    {
     "data": {
      "text/plain": [
       "x001    0\n",
       "x002    0\n",
       "x003    0\n",
       "x004    0\n",
       "x005    0\n",
       "       ..\n",
       "x299    0\n",
       "x300    0\n",
       "x301    0\n",
       "x303    0\n",
       "y       0\n",
       "Length: 295, dtype: int64"
      ]
     },
     "execution_count": 21,
     "metadata": {},
     "output_type": "execute_result"
    }
   ],
   "source": [
    "df.isnull().sum()"
   ]
  },
  {
   "attachments": {},
   "cell_type": "markdown",
   "id": "c8c7c0d7",
   "metadata": {},
   "source": [
    "for distance base model, the column should be within the range ,if not we cannot perform test and train to  the  model, so if model is not in the range we perform standardisation or normalisation to make it lie within the range"
   ]
  },
  {
   "cell_type": "code",
   "execution_count": 22,
   "id": "3906397a",
   "metadata": {},
   "outputs": [
    {
     "data": {
      "text/plain": [
       "(80000, 295)"
      ]
     },
     "execution_count": 22,
     "metadata": {},
     "output_type": "execute_result"
    }
   ],
   "source": [
    "df.shape"
   ]
  },
  {
   "cell_type": "code",
   "execution_count": 23,
   "id": "b5c42850",
   "metadata": {},
   "outputs": [],
   "source": [
    "# selecting dependent and independent variables\n",
    "y = df['y']                        #  dependent variable\n",
    "X = df.drop('y', axis = 1)         #  independent variable "
   ]
  },
  {
   "cell_type": "code",
   "execution_count": 24,
   "id": "87263dba",
   "metadata": {},
   "outputs": [
    {
     "data": {
      "text/html": [
       "<div>\n",
       "<style scoped>\n",
       "    .dataframe tbody tr th:only-of-type {\n",
       "        vertical-align: middle;\n",
       "    }\n",
       "\n",
       "    .dataframe tbody tr th {\n",
       "        vertical-align: top;\n",
       "    }\n",
       "\n",
       "    .dataframe thead th {\n",
       "        text-align: right;\n",
       "    }\n",
       "</style>\n",
       "<table border=\"1\" class=\"dataframe\">\n",
       "  <thead>\n",
       "    <tr style=\"text-align: right;\">\n",
       "      <th></th>\n",
       "      <th>x001</th>\n",
       "      <th>x002</th>\n",
       "      <th>x003</th>\n",
       "      <th>x004</th>\n",
       "      <th>x005</th>\n",
       "      <th>x006</th>\n",
       "      <th>x007</th>\n",
       "      <th>x008</th>\n",
       "      <th>x009</th>\n",
       "      <th>x010</th>\n",
       "      <th>...</th>\n",
       "      <th>x292</th>\n",
       "      <th>x293</th>\n",
       "      <th>x294</th>\n",
       "      <th>x296</th>\n",
       "      <th>x297</th>\n",
       "      <th>x298</th>\n",
       "      <th>x299</th>\n",
       "      <th>x300</th>\n",
       "      <th>x301</th>\n",
       "      <th>x303</th>\n",
       "    </tr>\n",
       "  </thead>\n",
       "  <tbody>\n",
       "    <tr>\n",
       "      <th>0</th>\n",
       "      <td>1084094</td>\n",
       "      <td>426.0</td>\n",
       "      <td>39.0</td>\n",
       "      <td>128.0</td>\n",
       "      <td>426.0</td>\n",
       "      <td>0</td>\n",
       "      <td>0</td>\n",
       "      <td>0</td>\n",
       "      <td>0</td>\n",
       "      <td>0</td>\n",
       "      <td>...</td>\n",
       "      <td>346762</td>\n",
       "      <td>0.8609</td>\n",
       "      <td>0</td>\n",
       "      <td>0</td>\n",
       "      <td>0.8526</td>\n",
       "      <td>0</td>\n",
       "      <td>0</td>\n",
       "      <td>0</td>\n",
       "      <td>0</td>\n",
       "      <td>0</td>\n",
       "    </tr>\n",
       "    <tr>\n",
       "      <th>1</th>\n",
       "      <td>1287777</td>\n",
       "      <td>160.0</td>\n",
       "      <td>2.0</td>\n",
       "      <td>64.0</td>\n",
       "      <td>160.0</td>\n",
       "      <td>1</td>\n",
       "      <td>1</td>\n",
       "      <td>2</td>\n",
       "      <td>0</td>\n",
       "      <td>1</td>\n",
       "      <td>...</td>\n",
       "      <td>124634</td>\n",
       "      <td>0.8417</td>\n",
       "      <td>0</td>\n",
       "      <td>17318</td>\n",
       "      <td>0.8417</td>\n",
       "      <td>1</td>\n",
       "      <td>1</td>\n",
       "      <td>1</td>\n",
       "      <td>0</td>\n",
       "      <td>0</td>\n",
       "    </tr>\n",
       "    <tr>\n",
       "      <th>2</th>\n",
       "      <td>1483016</td>\n",
       "      <td>163.0</td>\n",
       "      <td>16.0</td>\n",
       "      <td>104.0</td>\n",
       "      <td>239.0</td>\n",
       "      <td>0</td>\n",
       "      <td>0</td>\n",
       "      <td>0</td>\n",
       "      <td>1</td>\n",
       "      <td>0</td>\n",
       "      <td>...</td>\n",
       "      <td>0</td>\n",
       "      <td>0.8609</td>\n",
       "      <td>0</td>\n",
       "      <td>0</td>\n",
       "      <td>0.8526</td>\n",
       "      <td>0</td>\n",
       "      <td>0</td>\n",
       "      <td>0</td>\n",
       "      <td>0</td>\n",
       "      <td>0</td>\n",
       "    </tr>\n",
       "    <tr>\n",
       "      <th>3</th>\n",
       "      <td>959054</td>\n",
       "      <td>100.0</td>\n",
       "      <td>8.0</td>\n",
       "      <td>48.0</td>\n",
       "      <td>102.0</td>\n",
       "      <td>0</td>\n",
       "      <td>0</td>\n",
       "      <td>0</td>\n",
       "      <td>0</td>\n",
       "      <td>0</td>\n",
       "      <td>...</td>\n",
       "      <td>0</td>\n",
       "      <td>0.8609</td>\n",
       "      <td>0</td>\n",
       "      <td>0</td>\n",
       "      <td>0.8526</td>\n",
       "      <td>1</td>\n",
       "      <td>1</td>\n",
       "      <td>1</td>\n",
       "      <td>0</td>\n",
       "      <td>0</td>\n",
       "    </tr>\n",
       "    <tr>\n",
       "      <th>4</th>\n",
       "      <td>1342113</td>\n",
       "      <td>3.0</td>\n",
       "      <td>2.0</td>\n",
       "      <td>2.0</td>\n",
       "      <td>62.0</td>\n",
       "      <td>0</td>\n",
       "      <td>2</td>\n",
       "      <td>2</td>\n",
       "      <td>0</td>\n",
       "      <td>0</td>\n",
       "      <td>...</td>\n",
       "      <td>17413</td>\n",
       "      <td>1.0180</td>\n",
       "      <td>0</td>\n",
       "      <td>17413</td>\n",
       "      <td>1.0180</td>\n",
       "      <td>1</td>\n",
       "      <td>1</td>\n",
       "      <td>1</td>\n",
       "      <td>0</td>\n",
       "      <td>0</td>\n",
       "    </tr>\n",
       "    <tr>\n",
       "      <th>...</th>\n",
       "      <td>...</td>\n",
       "      <td>...</td>\n",
       "      <td>...</td>\n",
       "      <td>...</td>\n",
       "      <td>...</td>\n",
       "      <td>...</td>\n",
       "      <td>...</td>\n",
       "      <td>...</td>\n",
       "      <td>...</td>\n",
       "      <td>...</td>\n",
       "      <td>...</td>\n",
       "      <td>...</td>\n",
       "      <td>...</td>\n",
       "      <td>...</td>\n",
       "      <td>...</td>\n",
       "      <td>...</td>\n",
       "      <td>...</td>\n",
       "      <td>...</td>\n",
       "      <td>...</td>\n",
       "      <td>...</td>\n",
       "      <td>...</td>\n",
       "    </tr>\n",
       "    <tr>\n",
       "      <th>79995</th>\n",
       "      <td>1482075</td>\n",
       "      <td>2.0</td>\n",
       "      <td>2.0</td>\n",
       "      <td>2.0</td>\n",
       "      <td>2.0</td>\n",
       "      <td>0</td>\n",
       "      <td>1</td>\n",
       "      <td>1</td>\n",
       "      <td>0</td>\n",
       "      <td>0</td>\n",
       "      <td>...</td>\n",
       "      <td>12855</td>\n",
       "      <td>1.0000</td>\n",
       "      <td>0</td>\n",
       "      <td>12855</td>\n",
       "      <td>1.0000</td>\n",
       "      <td>1</td>\n",
       "      <td>1</td>\n",
       "      <td>1</td>\n",
       "      <td>0</td>\n",
       "      <td>0</td>\n",
       "    </tr>\n",
       "    <tr>\n",
       "      <th>79996</th>\n",
       "      <td>994459</td>\n",
       "      <td>75.0</td>\n",
       "      <td>24.0</td>\n",
       "      <td>48.0</td>\n",
       "      <td>269.0</td>\n",
       "      <td>0</td>\n",
       "      <td>0</td>\n",
       "      <td>0</td>\n",
       "      <td>0</td>\n",
       "      <td>2</td>\n",
       "      <td>...</td>\n",
       "      <td>119334</td>\n",
       "      <td>0.8609</td>\n",
       "      <td>0</td>\n",
       "      <td>0</td>\n",
       "      <td>0.8526</td>\n",
       "      <td>0</td>\n",
       "      <td>0</td>\n",
       "      <td>0</td>\n",
       "      <td>0</td>\n",
       "      <td>0</td>\n",
       "    </tr>\n",
       "    <tr>\n",
       "      <th>79997</th>\n",
       "      <td>1168324</td>\n",
       "      <td>135.0</td>\n",
       "      <td>3.0</td>\n",
       "      <td>50.0</td>\n",
       "      <td>135.0</td>\n",
       "      <td>0</td>\n",
       "      <td>1</td>\n",
       "      <td>1</td>\n",
       "      <td>0</td>\n",
       "      <td>1</td>\n",
       "      <td>...</td>\n",
       "      <td>142572</td>\n",
       "      <td>0.9982</td>\n",
       "      <td>0</td>\n",
       "      <td>20977</td>\n",
       "      <td>0.9982</td>\n",
       "      <td>1</td>\n",
       "      <td>1</td>\n",
       "      <td>1</td>\n",
       "      <td>0</td>\n",
       "      <td>0</td>\n",
       "    </tr>\n",
       "    <tr>\n",
       "      <th>79998</th>\n",
       "      <td>1307105</td>\n",
       "      <td>132.0</td>\n",
       "      <td>1.0</td>\n",
       "      <td>41.0</td>\n",
       "      <td>366.0</td>\n",
       "      <td>0</td>\n",
       "      <td>1</td>\n",
       "      <td>2</td>\n",
       "      <td>0</td>\n",
       "      <td>1</td>\n",
       "      <td>...</td>\n",
       "      <td>48177</td>\n",
       "      <td>0.7509</td>\n",
       "      <td>0</td>\n",
       "      <td>35621</td>\n",
       "      <td>0.7509</td>\n",
       "      <td>1</td>\n",
       "      <td>1</td>\n",
       "      <td>1</td>\n",
       "      <td>0</td>\n",
       "      <td>0</td>\n",
       "    </tr>\n",
       "    <tr>\n",
       "      <th>79999</th>\n",
       "      <td>405160</td>\n",
       "      <td>94.0</td>\n",
       "      <td>3.0</td>\n",
       "      <td>27.0</td>\n",
       "      <td>109.0</td>\n",
       "      <td>0</td>\n",
       "      <td>2</td>\n",
       "      <td>2</td>\n",
       "      <td>8</td>\n",
       "      <td>11</td>\n",
       "      <td>...</td>\n",
       "      <td>356213</td>\n",
       "      <td>0.8990</td>\n",
       "      <td>31094</td>\n",
       "      <td>44451</td>\n",
       "      <td>1.0286</td>\n",
       "      <td>1</td>\n",
       "      <td>1</td>\n",
       "      <td>1</td>\n",
       "      <td>0</td>\n",
       "      <td>44451</td>\n",
       "    </tr>\n",
       "  </tbody>\n",
       "</table>\n",
       "<p>80000 rows × 294 columns</p>\n",
       "</div>"
      ],
      "text/plain": [
       "          x001   x002  x003   x004   x005  x006  x007  x008  x009  x010  ...  \\\n",
       "0      1084094  426.0  39.0  128.0  426.0     0     0     0     0     0  ...   \n",
       "1      1287777  160.0   2.0   64.0  160.0     1     1     2     0     1  ...   \n",
       "2      1483016  163.0  16.0  104.0  239.0     0     0     0     1     0  ...   \n",
       "3       959054  100.0   8.0   48.0  102.0     0     0     0     0     0  ...   \n",
       "4      1342113    3.0   2.0    2.0   62.0     0     2     2     0     0  ...   \n",
       "...        ...    ...   ...    ...    ...   ...   ...   ...   ...   ...  ...   \n",
       "79995  1482075    2.0   2.0    2.0    2.0     0     1     1     0     0  ...   \n",
       "79996   994459   75.0  24.0   48.0  269.0     0     0     0     0     2  ...   \n",
       "79997  1168324  135.0   3.0   50.0  135.0     0     1     1     0     1  ...   \n",
       "79998  1307105  132.0   1.0   41.0  366.0     0     1     2     0     1  ...   \n",
       "79999   405160   94.0   3.0   27.0  109.0     0     2     2     8    11  ...   \n",
       "\n",
       "         x292    x293   x294   x296    x297  x298  x299  x300  x301   x303  \n",
       "0      346762  0.8609      0      0  0.8526     0     0     0     0      0  \n",
       "1      124634  0.8417      0  17318  0.8417     1     1     1     0      0  \n",
       "2           0  0.8609      0      0  0.8526     0     0     0     0      0  \n",
       "3           0  0.8609      0      0  0.8526     1     1     1     0      0  \n",
       "4       17413  1.0180      0  17413  1.0180     1     1     1     0      0  \n",
       "...       ...     ...    ...    ...     ...   ...   ...   ...   ...    ...  \n",
       "79995   12855  1.0000      0  12855  1.0000     1     1     1     0      0  \n",
       "79996  119334  0.8609      0      0  0.8526     0     0     0     0      0  \n",
       "79997  142572  0.9982      0  20977  0.9982     1     1     1     0      0  \n",
       "79998   48177  0.7509      0  35621  0.7509     1     1     1     0      0  \n",
       "79999  356213  0.8990  31094  44451  1.0286     1     1     1     0  44451  \n",
       "\n",
       "[80000 rows x 294 columns]"
      ]
     },
     "execution_count": 24,
     "metadata": {},
     "output_type": "execute_result"
    }
   ],
   "source": [
    "X"
   ]
  },
  {
   "cell_type": "code",
   "execution_count": 25,
   "id": "f1412467",
   "metadata": {},
   "outputs": [
    {
     "data": {
      "text/plain": [
       "0        807\n",
       "1        819\n",
       "2        803\n",
       "3        530\n",
       "4        485\n",
       "        ... \n",
       "79995    514\n",
       "79996    810\n",
       "79997    711\n",
       "79998    684\n",
       "79999    465\n",
       "Name: y, Length: 80000, dtype: int64"
      ]
     },
     "execution_count": 25,
     "metadata": {},
     "output_type": "execute_result"
    }
   ],
   "source": [
    "y"
   ]
  },
  {
   "cell_type": "code",
   "execution_count": 26,
   "id": "70db57f2",
   "metadata": {},
   "outputs": [],
   "source": [
    "# scaling (normalization and standardization)\n",
    "\n",
    "sd = StandardScaler().fit(X)\n",
    "\n",
    "X_stand = sd.transform(X)"
   ]
  },
  {
   "cell_type": "code",
   "execution_count": 27,
   "id": "91bb99e8",
   "metadata": {},
   "outputs": [],
   "source": [
    "# splitting the data\n",
    "\n",
    "X_train, X_test, y_train, y_test = train_test_split(X, y, test_size=0.3, random_state=42)\n"
   ]
  },
  {
   "cell_type": "code",
   "execution_count": 28,
   "id": "7f29ccb4",
   "metadata": {},
   "outputs": [],
   "source": [
    "# hyperparameter tuning\n",
    "\n",
    "grid_params = {\n",
    "    'fit_intercept' : ['True','False'],\n",
    "    'copy_X' : ['True','False'],\n",
    "    'n_jobs' : [1,2,3,4,5,6,7,8,9,10],\n",
    "    'positive' : ['True','False']\n",
    "}"
   ]
  },
  {
   "cell_type": "code",
   "execution_count": 29,
   "id": "2bdd5912",
   "metadata": {},
   "outputs": [],
   "source": [
    "# creating grid search\n",
    "\n",
    "gcv = GridSearchCV(LinearRegression(), grid_params, cv=5)\n",
    "model = gcv.fit(X_train, y_train)"
   ]
  },
  {
   "cell_type": "code",
   "execution_count": 30,
   "id": "3b06951b",
   "metadata": {},
   "outputs": [],
   "source": [
    "# creating grid search\n",
    "from sklearn.model_selection import RandomizedSearchCV\n",
    "\n",
    "rcv = RandomizedSearchCV(LinearRegression(), grid_params, n_iter=10)\n",
    "model = gcv.fit(X_train, y_train)"
   ]
  },
  {
   "cell_type": "code",
   "execution_count": 31,
   "id": "4d581ba1",
   "metadata": {},
   "outputs": [
    {
     "name": "stdout",
     "output_type": "stream",
     "text": [
      "0.5909695092253238\n",
      "{'copy_X': 'True', 'fit_intercept': 'True', 'n_jobs': 1, 'positive': 'True'}\n"
     ]
    }
   ],
   "source": [
    "print(model.best_score_)\n",
    "print(model.best_params_)"
   ]
  },
  {
   "cell_type": "code",
   "execution_count": 32,
   "id": "c69b919d",
   "metadata": {},
   "outputs": [],
   "source": [
    "# applying linear regression model\n",
    "\n",
    "# creating the model\n",
    "lr = LinearRegression()\n"
   ]
  },
  {
   "cell_type": "code",
   "execution_count": 33,
   "id": "1421b45f",
   "metadata": {},
   "outputs": [
    {
     "data": {
      "text/html": [
       "<style>#sk-container-id-1 {color: black;background-color: white;}#sk-container-id-1 pre{padding: 0;}#sk-container-id-1 div.sk-toggleable {background-color: white;}#sk-container-id-1 label.sk-toggleable__label {cursor: pointer;display: block;width: 100%;margin-bottom: 0;padding: 0.3em;box-sizing: border-box;text-align: center;}#sk-container-id-1 label.sk-toggleable__label-arrow:before {content: \"▸\";float: left;margin-right: 0.25em;color: #696969;}#sk-container-id-1 label.sk-toggleable__label-arrow:hover:before {color: black;}#sk-container-id-1 div.sk-estimator:hover label.sk-toggleable__label-arrow:before {color: black;}#sk-container-id-1 div.sk-toggleable__content {max-height: 0;max-width: 0;overflow: hidden;text-align: left;background-color: #f0f8ff;}#sk-container-id-1 div.sk-toggleable__content pre {margin: 0.2em;color: black;border-radius: 0.25em;background-color: #f0f8ff;}#sk-container-id-1 input.sk-toggleable__control:checked~div.sk-toggleable__content {max-height: 200px;max-width: 100%;overflow: auto;}#sk-container-id-1 input.sk-toggleable__control:checked~label.sk-toggleable__label-arrow:before {content: \"▾\";}#sk-container-id-1 div.sk-estimator input.sk-toggleable__control:checked~label.sk-toggleable__label {background-color: #d4ebff;}#sk-container-id-1 div.sk-label input.sk-toggleable__control:checked~label.sk-toggleable__label {background-color: #d4ebff;}#sk-container-id-1 input.sk-hidden--visually {border: 0;clip: rect(1px 1px 1px 1px);clip: rect(1px, 1px, 1px, 1px);height: 1px;margin: -1px;overflow: hidden;padding: 0;position: absolute;width: 1px;}#sk-container-id-1 div.sk-estimator {font-family: monospace;background-color: #f0f8ff;border: 1px dotted black;border-radius: 0.25em;box-sizing: border-box;margin-bottom: 0.5em;}#sk-container-id-1 div.sk-estimator:hover {background-color: #d4ebff;}#sk-container-id-1 div.sk-parallel-item::after {content: \"\";width: 100%;border-bottom: 1px solid gray;flex-grow: 1;}#sk-container-id-1 div.sk-label:hover label.sk-toggleable__label {background-color: #d4ebff;}#sk-container-id-1 div.sk-serial::before {content: \"\";position: absolute;border-left: 1px solid gray;box-sizing: border-box;top: 0;bottom: 0;left: 50%;z-index: 0;}#sk-container-id-1 div.sk-serial {display: flex;flex-direction: column;align-items: center;background-color: white;padding-right: 0.2em;padding-left: 0.2em;position: relative;}#sk-container-id-1 div.sk-item {position: relative;z-index: 1;}#sk-container-id-1 div.sk-parallel {display: flex;align-items: stretch;justify-content: center;background-color: white;position: relative;}#sk-container-id-1 div.sk-item::before, #sk-container-id-1 div.sk-parallel-item::before {content: \"\";position: absolute;border-left: 1px solid gray;box-sizing: border-box;top: 0;bottom: 0;left: 50%;z-index: -1;}#sk-container-id-1 div.sk-parallel-item {display: flex;flex-direction: column;z-index: 1;position: relative;background-color: white;}#sk-container-id-1 div.sk-parallel-item:first-child::after {align-self: flex-end;width: 50%;}#sk-container-id-1 div.sk-parallel-item:last-child::after {align-self: flex-start;width: 50%;}#sk-container-id-1 div.sk-parallel-item:only-child::after {width: 0;}#sk-container-id-1 div.sk-dashed-wrapped {border: 1px dashed gray;margin: 0 0.4em 0.5em 0.4em;box-sizing: border-box;padding-bottom: 0.4em;background-color: white;}#sk-container-id-1 div.sk-label label {font-family: monospace;font-weight: bold;display: inline-block;line-height: 1.2em;}#sk-container-id-1 div.sk-label-container {text-align: center;}#sk-container-id-1 div.sk-container {/* jupyter's `normalize.less` sets `[hidden] { display: none; }` but bootstrap.min.css set `[hidden] { display: none !important; }` so we also need the `!important` here to be able to override the default hidden behavior on the sphinx rendered scikit-learn.org. See: https://github.com/scikit-learn/scikit-learn/issues/21755 */display: inline-block !important;position: relative;}#sk-container-id-1 div.sk-text-repr-fallback {display: none;}</style><div id=\"sk-container-id-1\" class=\"sk-top-container\"><div class=\"sk-text-repr-fallback\"><pre>LinearRegression()</pre><b>In a Jupyter environment, please rerun this cell to show the HTML representation or trust the notebook. <br />On GitHub, the HTML representation is unable to render, please try loading this page with nbviewer.org.</b></div><div class=\"sk-container\" hidden><div class=\"sk-item\"><div class=\"sk-estimator sk-toggleable\"><input class=\"sk-toggleable__control sk-hidden--visually\" id=\"sk-estimator-id-1\" type=\"checkbox\" checked><label for=\"sk-estimator-id-1\" class=\"sk-toggleable__label sk-toggleable__label-arrow\">LinearRegression</label><div class=\"sk-toggleable__content\"><pre>LinearRegression()</pre></div></div></div></div></div>"
      ],
      "text/plain": [
       "LinearRegression()"
      ]
     },
     "execution_count": 33,
     "metadata": {},
     "output_type": "execute_result"
    }
   ],
   "source": [
    "# model fitting\n",
    "lr.fit(X_train, y_train)"
   ]
  },
  {
   "cell_type": "code",
   "execution_count": 34,
   "id": "34417e62",
   "metadata": {},
   "outputs": [
    {
     "data": {
      "text/plain": [
       "0.8379495172301356"
      ]
     },
     "execution_count": 34,
     "metadata": {},
     "output_type": "execute_result"
    }
   ],
   "source": [
    "# to check the score (how much percentage our model is trained)\n",
    "lr.score(X_test, y_test)"
   ]
  },
  {
   "cell_type": "code",
   "execution_count": 35,
   "id": "1a03a6b8",
   "metadata": {},
   "outputs": [],
   "source": [
    "from sklearn.metrics import mean_squared_error, r2_score"
   ]
  },
  {
   "cell_type": "code",
   "execution_count": 36,
   "id": "33ab34c9",
   "metadata": {},
   "outputs": [
    {
     "name": "stdout",
     "output_type": "stream",
     "text": [
      "2168.7901569144647\n",
      "2270.326550583676\n"
     ]
    }
   ],
   "source": [
    "y_pred = lr.predict(X_train)\n",
    "y_pred_t = lr.predict(X_test)\n",
    "print(mean_squared_error(y_train,y_pred))\n",
    "print(mean_squared_error(y_test,y_pred_t))\n"
   ]
  },
  {
   "cell_type": "code",
   "execution_count": 37,
   "id": "b3c7c809",
   "metadata": {},
   "outputs": [],
   "source": [
    "from sklearn.linear_model import LinearRegression, Lasso,Ridge"
   ]
  },
  {
   "cell_type": "code",
   "execution_count": 38,
   "id": "a801a60c",
   "metadata": {},
   "outputs": [
    {
     "name": "stderr",
     "output_type": "stream",
     "text": [
      "c:\\Users\\Bhanu\\anaconda3\\envs\\butterfly\\lib\\site-packages\\sklearn\\linear_model\\_ridge.py:212: LinAlgWarning: Ill-conditioned matrix (rcond=5.76156e-19): result may not be accurate.\n",
      "  return linalg.solve(A, Xy, assume_a=\"pos\", overwrite_a=True).T\n"
     ]
    },
    {
     "name": "stdout",
     "output_type": "stream",
     "text": [
      "0.01 ---> 2168.7902110983755\n",
      "0.01 ---> 2270.3250016719135\n"
     ]
    },
    {
     "name": "stderr",
     "output_type": "stream",
     "text": [
      "c:\\Users\\Bhanu\\anaconda3\\envs\\butterfly\\lib\\site-packages\\sklearn\\linear_model\\_ridge.py:212: LinAlgWarning: Ill-conditioned matrix (rcond=6.56616e-18): result may not be accurate.\n",
      "  return linalg.solve(A, Xy, assume_a=\"pos\", overwrite_a=True).T\n"
     ]
    },
    {
     "name": "stdout",
     "output_type": "stream",
     "text": [
      "0.11 ---> 2168.790221565617\n",
      "0.11 ---> 2270.3138747684975\n"
     ]
    },
    {
     "name": "stderr",
     "output_type": "stream",
     "text": [
      "c:\\Users\\Bhanu\\anaconda3\\envs\\butterfly\\lib\\site-packages\\sklearn\\linear_model\\_ridge.py:212: LinAlgWarning: Ill-conditioned matrix (rcond=1.25351e-17): result may not be accurate.\n",
      "  return linalg.solve(A, Xy, assume_a=\"pos\", overwrite_a=True).T\n"
     ]
    },
    {
     "name": "stdout",
     "output_type": "stream",
     "text": [
      "0.21000000000000002 ---> 2168.790247699451\n",
      "0.21000000000000002 ---> 2270.3027655754063\n"
     ]
    },
    {
     "name": "stderr",
     "output_type": "stream",
     "text": [
      "c:\\Users\\Bhanu\\anaconda3\\envs\\butterfly\\lib\\site-packages\\sklearn\\linear_model\\_ridge.py:212: LinAlgWarning: Ill-conditioned matrix (rcond=1.85037e-17): result may not be accurate.\n",
      "  return linalg.solve(A, Xy, assume_a=\"pos\", overwrite_a=True).T\n"
     ]
    },
    {
     "name": "stdout",
     "output_type": "stream",
     "text": [
      "0.31000000000000005 ---> 2168.7902875471004\n",
      "0.31000000000000005 ---> 2270.29167483413\n"
     ]
    },
    {
     "name": "stderr",
     "output_type": "stream",
     "text": [
      "c:\\Users\\Bhanu\\anaconda3\\envs\\butterfly\\lib\\site-packages\\sklearn\\linear_model\\_ridge.py:212: LinAlgWarning: Ill-conditioned matrix (rcond=2.4472e-17): result may not be accurate.\n",
      "  return linalg.solve(A, Xy, assume_a=\"pos\", overwrite_a=True).T\n"
     ]
    },
    {
     "name": "stdout",
     "output_type": "stream",
     "text": [
      "0.41000000000000003 ---> 2168.79033962342\n",
      "0.41000000000000003 ---> 2270.280603137303\n"
     ]
    },
    {
     "name": "stderr",
     "output_type": "stream",
     "text": [
      "c:\\Users\\Bhanu\\anaconda3\\envs\\butterfly\\lib\\site-packages\\sklearn\\linear_model\\_ridge.py:212: LinAlgWarning: Ill-conditioned matrix (rcond=3.04399e-17): result may not be accurate.\n",
      "  return linalg.solve(A, Xy, assume_a=\"pos\", overwrite_a=True).T\n"
     ]
    },
    {
     "name": "stdout",
     "output_type": "stream",
     "text": [
      "0.51 ---> 2168.7904027884942\n",
      "0.51 ---> 2270.269550958889\n"
     ]
    },
    {
     "name": "stderr",
     "output_type": "stream",
     "text": [
      "c:\\Users\\Bhanu\\anaconda3\\envs\\butterfly\\lib\\site-packages\\sklearn\\linear_model\\_ridge.py:212: LinAlgWarning: Ill-conditioned matrix (rcond=3.64074e-17): result may not be accurate.\n",
      "  return linalg.solve(A, Xy, assume_a=\"pos\", overwrite_a=True).T\n"
     ]
    },
    {
     "name": "stdout",
     "output_type": "stream",
     "text": [
      "0.6100000000000001 ---> 2168.790476159929\n",
      "0.6100000000000001 ---> 2270.258518677425\n"
     ]
    },
    {
     "name": "stderr",
     "output_type": "stream",
     "text": [
      "c:\\Users\\Bhanu\\anaconda3\\envs\\butterfly\\lib\\site-packages\\sklearn\\linear_model\\_ridge.py:212: LinAlgWarning: Ill-conditioned matrix (rcond=4.23746e-17): result may not be accurate.\n",
      "  return linalg.solve(A, Xy, assume_a=\"pos\", overwrite_a=True).T\n"
     ]
    },
    {
     "name": "stdout",
     "output_type": "stream",
     "text": [
      "0.7100000000000001 ---> 2168.790559049229\n",
      "0.7100000000000001 ---> 2270.247506594102\n"
     ]
    },
    {
     "name": "stderr",
     "output_type": "stream",
     "text": [
      "c:\\Users\\Bhanu\\anaconda3\\envs\\butterfly\\lib\\site-packages\\sklearn\\linear_model\\_ridge.py:212: LinAlgWarning: Ill-conditioned matrix (rcond=4.83414e-17): result may not be accurate.\n",
      "  return linalg.solve(A, Xy, assume_a=\"pos\", overwrite_a=True).T\n"
     ]
    },
    {
     "name": "stdout",
     "output_type": "stream",
     "text": [
      "0.81 ---> 2168.790650915147\n",
      "0.81 ---> 2270.2365149469633\n"
     ]
    },
    {
     "name": "stderr",
     "output_type": "stream",
     "text": [
      "c:\\Users\\Bhanu\\anaconda3\\envs\\butterfly\\lib\\site-packages\\sklearn\\linear_model\\_ridge.py:212: LinAlgWarning: Ill-conditioned matrix (rcond=5.4308e-17): result may not be accurate.\n",
      "  return linalg.solve(A, Xy, assume_a=\"pos\", overwrite_a=True).T\n"
     ]
    },
    {
     "name": "stdout",
     "output_type": "stream",
     "text": [
      "0.91 ---> 2168.790751329107\n",
      "0.91 ---> 2270.225543922201\n"
     ]
    },
    {
     "name": "stderr",
     "output_type": "stream",
     "text": [
      "c:\\Users\\Bhanu\\anaconda3\\envs\\butterfly\\lib\\site-packages\\sklearn\\linear_model\\_ridge.py:212: LinAlgWarning: Ill-conditioned matrix (rcond=6.0274e-17): result may not be accurate.\n",
      "  return linalg.solve(A, Xy, assume_a=\"pos\", overwrite_a=True).T\n"
     ]
    },
    {
     "name": "stdout",
     "output_type": "stream",
     "text": [
      "1.01 ---> 2168.790859949352\n",
      "1.01 ---> 2270.214593663144\n"
     ]
    },
    {
     "name": "stderr",
     "output_type": "stream",
     "text": [
      "c:\\Users\\Bhanu\\anaconda3\\envs\\butterfly\\lib\\site-packages\\sklearn\\linear_model\\_ridge.py:212: LinAlgWarning: Ill-conditioned matrix (rcond=6.62398e-17): result may not be accurate.\n",
      "  return linalg.solve(A, Xy, assume_a=\"pos\", overwrite_a=True).T\n"
     ]
    },
    {
     "name": "stdout",
     "output_type": "stream",
     "text": [
      "1.11 ---> 2168.790976501448\n",
      "1.11 ---> 2270.203664277538\n"
     ]
    },
    {
     "name": "stderr",
     "output_type": "stream",
     "text": [
      "c:\\Users\\Bhanu\\anaconda3\\envs\\butterfly\\lib\\site-packages\\sklearn\\linear_model\\_ridge.py:212: LinAlgWarning: Ill-conditioned matrix (rcond=7.22053e-17): result may not be accurate.\n",
      "  return linalg.solve(A, Xy, assume_a=\"pos\", overwrite_a=True).T\n"
     ]
    },
    {
     "name": "stdout",
     "output_type": "stream",
     "text": [
      "1.2100000000000002 ---> 2168.7911007634652\n",
      "1.2100000000000002 ---> 2270.1927558434295\n"
     ]
    },
    {
     "name": "stderr",
     "output_type": "stream",
     "text": [
      "c:\\Users\\Bhanu\\anaconda3\\envs\\butterfly\\lib\\site-packages\\sklearn\\linear_model\\_ridge.py:212: LinAlgWarning: Ill-conditioned matrix (rcond=7.81702e-17): result may not be accurate.\n",
      "  return linalg.solve(A, Xy, assume_a=\"pos\", overwrite_a=True).T\n"
     ]
    },
    {
     "name": "stdout",
     "output_type": "stream",
     "text": [
      "1.31 ---> 2168.7912325546286\n",
      "1.31 ---> 2270.181868413992\n"
     ]
    },
    {
     "name": "stderr",
     "output_type": "stream",
     "text": [
      "c:\\Users\\Bhanu\\anaconda3\\envs\\butterfly\\lib\\site-packages\\sklearn\\linear_model\\_ridge.py:212: LinAlgWarning: Ill-conditioned matrix (rcond=8.4135e-17): result may not be accurate.\n",
      "  return linalg.solve(A, Xy, assume_a=\"pos\", overwrite_a=True).T\n"
     ]
    },
    {
     "name": "stdout",
     "output_type": "stream",
     "text": [
      "1.4100000000000001 ---> 2168.7913717265774\n",
      "1.4100000000000001 ---> 2270.1710020214846\n"
     ]
    },
    {
     "name": "stderr",
     "output_type": "stream",
     "text": [
      "c:\\Users\\Bhanu\\anaconda3\\envs\\butterfly\\lib\\site-packages\\sklearn\\linear_model\\_ridge.py:212: LinAlgWarning: Ill-conditioned matrix (rcond=9.00993e-17): result may not be accurate.\n",
      "  return linalg.solve(A, Xy, assume_a=\"pos\", overwrite_a=True).T\n"
     ]
    },
    {
     "name": "stdout",
     "output_type": "stream",
     "text": [
      "1.51 ---> 2168.791518156586\n",
      "1.51 ---> 2270.160156680529\n"
     ]
    },
    {
     "name": "stderr",
     "output_type": "stream",
     "text": [
      "c:\\Users\\Bhanu\\anaconda3\\envs\\butterfly\\lib\\site-packages\\sklearn\\linear_model\\_ridge.py:212: LinAlgWarning: Ill-conditioned matrix (rcond=9.60633e-17): result may not be accurate.\n",
      "  return linalg.solve(A, Xy, assume_a=\"pos\", overwrite_a=True).T\n"
     ]
    },
    {
     "name": "stdout",
     "output_type": "stream",
     "text": [
      "1.61 ---> 2168.791671742281\n",
      "1.61 ---> 2270.149332390828\n"
     ]
    },
    {
     "name": "stderr",
     "output_type": "stream",
     "text": [
      "c:\\Users\\Bhanu\\anaconda3\\envs\\butterfly\\lib\\site-packages\\sklearn\\linear_model\\_ridge.py:212: LinAlgWarning: Ill-conditioned matrix (rcond=1.02027e-16): result may not be accurate.\n",
      "  return linalg.solve(A, Xy, assume_a=\"pos\", overwrite_a=True).T\n"
     ]
    },
    {
     "name": "stdout",
     "output_type": "stream",
     "text": [
      "1.7100000000000002 ---> 2168.791832397497\n",
      "1.7100000000000002 ---> 2270.138529139452\n"
     ]
    },
    {
     "name": "stderr",
     "output_type": "stream",
     "text": [
      "c:\\Users\\Bhanu\\anaconda3\\envs\\butterfly\\lib\\site-packages\\sklearn\\linear_model\\_ridge.py:212: LinAlgWarning: Ill-conditioned matrix (rcond=1.0799e-16): result may not be accurate.\n",
      "  return linalg.solve(A, Xy, assume_a=\"pos\", overwrite_a=True).T\n"
     ]
    },
    {
     "name": "stdout",
     "output_type": "stream",
     "text": [
      "1.81 ---> 2168.7920000490194\n",
      "1.81 ---> 2270.1277469027336\n",
      "1.9100000000000001 ---> 2168.79217463401\n",
      "1.9100000000000001 ---> 2270.116985647885\n",
      "2.01 ---> 2168.7923560979584\n",
      "2.01 ---> 2270.106245334365\n",
      "2.11 ---> 2168.7925443930535\n",
      "2.11 ---> 2270.0955259150364\n",
      "2.21 ---> 2168.792739476885\n",
      "2.21 ---> 2270.084827337128\n",
      "2.31 ---> 2168.7929413114016\n",
      "2.31 ---> 2270.074149543122\n",
      "2.41 ---> 2168.7931498620715\n",
      "2.41 ---> 2270.063492471451\n",
      "2.51 ---> 2168.7933650972113\n",
      "2.51 ---> 2270.0528560571106\n",
      "2.61 ---> 2168.7935869874445\n",
      "2.61 ---> 2270.042240232221\n",
      "2.71 ---> 2168.7938155052607\n",
      "2.71 ---> 2270.0316449264847\n",
      "2.81 ---> 2168.794050624664\n",
      "2.81 ---> 2270.021070067575\n",
      "2.91 ---> 2168.7942923208875\n",
      "2.91 ---> 2270.010515581497\n",
      "3.01 ---> 2168.79454057016\n",
      "3.01 ---> 2269.9999813928957\n",
      "3.11 ---> 2168.7947953495186\n",
      "3.11 ---> 2269.9894674253073\n",
      "3.21 ---> 2168.7950566366635\n",
      "3.21 ---> 2269.9789736013972\n",
      "3.31 ---> 2168.7953244098285\n",
      "3.31 ---> 2269.9684998431558\n",
      "3.41 ---> 2168.7955986476877\n",
      "3.41 ---> 2269.958046072081\n",
      "3.51 ---> 2168.795879329277\n",
      "3.51 ---> 2269.947612209332\n",
      "3.61 ---> 2168.7961664339277\n",
      "3.61 ---> 2269.937198175857\n",
      "3.71 ---> 2168.7964599412185\n",
      "3.71 ---> 2269.926803892519\n",
      "3.81 ---> 2168.7967598309365\n",
      "3.81 ---> 2269.9164292801847\n",
      "3.91 ---> 2168.797066083044\n",
      "3.91 ---> 2269.9060742598326\n",
      "4.01 ---> 2168.7973786776533\n",
      "4.01 ---> 2269.8957387526257\n",
      "4.11 ---> 2168.7976975950123\n",
      "4.11 ---> 2269.885422679971\n",
      "4.21 ---> 2168.7980228154856\n",
      "4.21 ---> 2269.8751259635887\n",
      "4.31 ---> 2168.7983543195437\n",
      "4.31 ---> 2269.864848525568\n",
      "4.41 ---> 2168.7986920877597\n",
      "4.41 ---> 2269.854590288402\n",
      "4.51 ---> 2168.7990361007996\n",
      "4.51 ---> 2269.844351175036\n",
      "4.61 ---> 2168.7993863394204\n",
      "4.61 ---> 2269.8341311089007\n",
      "4.71 ---> 2168.7997427844693\n",
      "4.71 ---> 2269.823930013932\n",
      "4.8100000000000005 ---> 2168.8001054168803\n",
      "4.8100000000000005 ---> 2269.813747814614\n",
      "4.91 ---> 2168.8004742176763\n",
      "4.91 ---> 2269.803584435985\n",
      "5.01 ---> 2168.80084916797\n",
      "5.01 ---> 2269.793439803661\n",
      "5.11 ---> 2168.801230248964\n",
      "5.11 ---> 2269.7833138438605\n",
      "5.21 ---> 2168.8016174419527\n",
      "5.21 ---> 2269.7732064833926\n",
      "5.3100000000000005 ---> 2168.802010728324\n",
      "5.3100000000000005 ---> 2269.7631176496975\n",
      "5.41 ---> 2168.802410089564\n",
      "5.41 ---> 2269.7530472708368\n",
      "5.51 ---> 2168.8028155072543\n",
      "5.51 ---> 2269.7429952754997\n",
      "5.61 ---> 2168.8032269630785\n",
      "5.61 ---> 2269.732961593021\n",
      "5.71 ---> 2168.803644438823\n",
      "5.71 ---> 2269.7229461533625\n",
      "5.8100000000000005 ---> 2168.804067916378\n",
      "5.8100000000000005 ---> 2269.7129488871456\n",
      "5.91 ---> 2168.8044973777405\n",
      "5.91 ---> 2269.7029697256144\n",
      "6.01 ---> 2168.8049328050165\n",
      "6.01 ---> 2269.6930086006787\n",
      "6.11 ---> 2168.8053741804233\n",
      "6.11 ---> 2269.683065444874\n",
      "6.21 ---> 2168.8058214862886\n",
      "6.21 ---> 2269.6731401913817\n",
      "6.3100000000000005 ---> 2168.8062747050544\n",
      "6.3100000000000005 ---> 2269.663232774022\n",
      "6.41 ---> 2168.8067338192773\n",
      "6.41 ---> 2269.6533431272524\n",
      "6.51 ---> 2168.807198811631\n",
      "6.51 ---> 2269.643471186157\n",
      "6.61 ---> 2168.8076696649064\n",
      "6.61 ---> 2269.63361688645\n",
      "6.71 ---> 2168.808146362011\n",
      "6.71 ---> 2269.623780164467\n",
      "6.8100000000000005 ---> 2168.8086288859718\n",
      "6.8100000000000005 ---> 2269.613960957161\n",
      "6.91 ---> 2168.809117219937\n",
      "6.91 ---> 2269.6041592020965\n",
      "7.01 ---> 2168.809611347174\n",
      "7.01 ---> 2269.594374837451\n",
      "7.11 ---> 2168.81011125107\n",
      "7.11 ---> 2269.584607801995\n",
      "7.21 ---> 2168.810616915134\n",
      "7.21 ---> 2269.574858035099\n",
      "7.3100000000000005 ---> 2168.8111283229946\n",
      "7.3100000000000005 ---> 2269.565125476719\n",
      "7.41 ---> 2168.811645458403\n",
      "7.41 ---> 2269.555410067395\n",
      "7.51 ---> 2168.812168305231\n",
      "7.51 ---> 2269.545711748244\n",
      "7.61 ---> 2168.8126968474703\n",
      "7.61 ---> 2269.536030460945\n",
      "7.71 ---> 2168.8132310692345\n",
      "7.71 ---> 2269.5263661477484\n",
      "7.8100000000000005 ---> 2168.813770954756\n",
      "7.8100000000000005 ---> 2269.5167187514608\n",
      "7.91 ---> 2168.8143164883872\n",
      "7.91 ---> 2269.5070882154255\n",
      "8.01 ---> 2168.8148676546016\n",
      "8.01 ---> 2269.4974744835413\n",
      "8.11 ---> 2168.81542443799\n",
      "8.11 ---> 2269.487877500238\n",
      "8.21 ---> 2168.8159868232606\n",
      "8.21 ---> 2269.478297210468\n",
      "8.31 ---> 2168.8165547952412\n",
      "8.31 ---> 2269.4687335597123\n",
      "8.41 ---> 2168.817128338875\n",
      "8.41 ---> 2269.4591864939644\n",
      "8.51 ---> 2168.8177074392215\n",
      "8.51 ---> 2269.449655959726\n",
      "8.61 ---> 2168.8182920814556\n",
      "8.61 ---> 2269.4401419039955\n",
      "8.71 ---> 2168.818882250867\n",
      "8.71 ---> 2269.430644274273\n",
      "8.81 ---> 2168.8194779328564\n",
      "8.81 ---> 2269.421163018541\n",
      "8.91 ---> 2168.8200791129407\n",
      "8.91 ---> 2269.411698085261\n",
      "9.01 ---> 2168.8206857767464\n",
      "9.01 ---> 2269.402249423375\n",
      "9.11 ---> 2168.821297910009\n",
      "9.11 ---> 2269.3928169822893\n",
      "9.21 ---> 2168.8219154985773\n",
      "9.21 ---> 2269.3834007118694\n",
      "9.31 ---> 2168.8225385284063\n",
      "9.31 ---> 2269.37400056244\n",
      "9.41 ---> 2168.8231669855577\n",
      "9.41 ---> 2269.364616484772\n",
      "9.51 ---> 2168.823800856201\n",
      "9.51 ---> 2269.3552484300776\n",
      "9.610000000000001 ---> 2168.8244401266115\n",
      "9.610000000000001 ---> 2269.345896350006\n",
      "9.71 ---> 2168.8250847831673\n",
      "9.71 ---> 2269.3365601966393\n",
      "9.81 ---> 2168.82573481235\n",
      "9.81 ---> 2269.327239922477\n",
      "9.91 ---> 2168.8263902007443\n",
      "9.91 ---> 2269.3179354804365\n"
     ]
    }
   ],
   "source": [
    "for i in np.arange(0.01, 10, 0.10):\n",
    "    ridge = Ridge(alpha=i)\n",
    "\n",
    "    ridge.fit(X_train, y_train)\n",
    "    y_pred_rigde = ridge.predict(X_train)\n",
    "    y_pred_rigde_t = ridge.predict(X_test)\n",
    "\n",
    "    print(i,\"--->\", mean_squared_error(y_train, y_pred_rigde))\n",
    "    print(i,\"--->\",mean_squared_error(y_test, y_pred_rigde_t))"
   ]
  },
  {
   "cell_type": "code",
   "execution_count": 39,
   "id": "03e8e50d",
   "metadata": {},
   "outputs": [
    {
     "name": "stderr",
     "output_type": "stream",
     "text": [
      "c:\\Users\\Bhanu\\anaconda3\\envs\\butterfly\\lib\\site-packages\\sklearn\\linear_model\\_coordinate_descent.py:648: ConvergenceWarning: Objective did not converge. You might want to increase the number of iterations, check the scale of the features or consider increasing regularisation. Duality gap: 8.167e+07, tolerance: 7.844e+04\n",
      "  model = cd_fast.enet_coordinate_descent(\n"
     ]
    },
    {
     "name": "stdout",
     "output_type": "stream",
     "text": [
      "2446.8798326318074\n",
      "2522.2820882332944\n"
     ]
    }
   ],
   "source": [
    "ls = Lasso()\n",
    "\n",
    "ls.fit(X_train, y_train)\n",
    "y_pred_ls = ls.predict(X_train)\n",
    "y_pred_ls_t = ls.predict(X_test)\n",
    "\n",
    "print(mean_squared_error(y_train, y_pred_ls))\n",
    "print(mean_squared_error(y_test, y_pred_ls_t))"
   ]
  },
  {
   "cell_type": "code",
   "execution_count": 40,
   "id": "b7525d60",
   "metadata": {},
   "outputs": [],
   "source": [
    "from sklearn.datasets import load_boston"
   ]
  },
  {
   "cell_type": "code",
   "execution_count": 41,
   "id": "57b30e41",
   "metadata": {},
   "outputs": [
    {
     "name": "stderr",
     "output_type": "stream",
     "text": [
      "c:\\Users\\Bhanu\\anaconda3\\envs\\butterfly\\lib\\site-packages\\sklearn\\utils\\deprecation.py:87: FutureWarning: Function load_boston is deprecated; `load_boston` is deprecated in 1.0 and will be removed in 1.2.\n",
      "\n",
      "    The Boston housing prices dataset has an ethical problem. You can refer to\n",
      "    the documentation of this function for further details.\n",
      "\n",
      "    The scikit-learn maintainers therefore strongly discourage the use of this\n",
      "    dataset unless the purpose of the code is to study and educate about\n",
      "    ethical issues in data science and machine learning.\n",
      "\n",
      "    In this special case, you can fetch the dataset from the original\n",
      "    source::\n",
      "\n",
      "        import pandas as pd\n",
      "        import numpy as np\n",
      "\n",
      "        data_url = \"http://lib.stat.cmu.edu/datasets/boston\"\n",
      "        raw_df = pd.read_csv(data_url, sep=\"\\s+\", skiprows=22, header=None)\n",
      "        data = np.hstack([raw_df.values[::2, :], raw_df.values[1::2, :2]])\n",
      "        target = raw_df.values[1::2, 2]\n",
      "\n",
      "    Alternative datasets include the California housing dataset (i.e.\n",
      "    :func:`~sklearn.datasets.fetch_california_housing`) and the Ames housing\n",
      "    dataset. You can load the datasets as follows::\n",
      "\n",
      "        from sklearn.datasets import fetch_california_housing\n",
      "        housing = fetch_california_housing()\n",
      "\n",
      "    for the California housing dataset and::\n",
      "\n",
      "        from sklearn.datasets import fetch_openml\n",
      "        housing = fetch_openml(name=\"house_prices\", as_frame=True)\n",
      "\n",
      "    for the Ames housing dataset.\n",
      "  warnings.warn(msg, category=FutureWarning)\n"
     ]
    },
    {
     "data": {
      "text/plain": [
       "{'data': array([[6.3200e-03, 1.8000e+01, 2.3100e+00, ..., 1.5300e+01, 3.9690e+02,\n",
       "         4.9800e+00],\n",
       "        [2.7310e-02, 0.0000e+00, 7.0700e+00, ..., 1.7800e+01, 3.9690e+02,\n",
       "         9.1400e+00],\n",
       "        [2.7290e-02, 0.0000e+00, 7.0700e+00, ..., 1.7800e+01, 3.9283e+02,\n",
       "         4.0300e+00],\n",
       "        ...,\n",
       "        [6.0760e-02, 0.0000e+00, 1.1930e+01, ..., 2.1000e+01, 3.9690e+02,\n",
       "         5.6400e+00],\n",
       "        [1.0959e-01, 0.0000e+00, 1.1930e+01, ..., 2.1000e+01, 3.9345e+02,\n",
       "         6.4800e+00],\n",
       "        [4.7410e-02, 0.0000e+00, 1.1930e+01, ..., 2.1000e+01, 3.9690e+02,\n",
       "         7.8800e+00]]),\n",
       " 'target': array([24. , 21.6, 34.7, 33.4, 36.2, 28.7, 22.9, 27.1, 16.5, 18.9, 15. ,\n",
       "        18.9, 21.7, 20.4, 18.2, 19.9, 23.1, 17.5, 20.2, 18.2, 13.6, 19.6,\n",
       "        15.2, 14.5, 15.6, 13.9, 16.6, 14.8, 18.4, 21. , 12.7, 14.5, 13.2,\n",
       "        13.1, 13.5, 18.9, 20. , 21. , 24.7, 30.8, 34.9, 26.6, 25.3, 24.7,\n",
       "        21.2, 19.3, 20. , 16.6, 14.4, 19.4, 19.7, 20.5, 25. , 23.4, 18.9,\n",
       "        35.4, 24.7, 31.6, 23.3, 19.6, 18.7, 16. , 22.2, 25. , 33. , 23.5,\n",
       "        19.4, 22. , 17.4, 20.9, 24.2, 21.7, 22.8, 23.4, 24.1, 21.4, 20. ,\n",
       "        20.8, 21.2, 20.3, 28. , 23.9, 24.8, 22.9, 23.9, 26.6, 22.5, 22.2,\n",
       "        23.6, 28.7, 22.6, 22. , 22.9, 25. , 20.6, 28.4, 21.4, 38.7, 43.8,\n",
       "        33.2, 27.5, 26.5, 18.6, 19.3, 20.1, 19.5, 19.5, 20.4, 19.8, 19.4,\n",
       "        21.7, 22.8, 18.8, 18.7, 18.5, 18.3, 21.2, 19.2, 20.4, 19.3, 22. ,\n",
       "        20.3, 20.5, 17.3, 18.8, 21.4, 15.7, 16.2, 18. , 14.3, 19.2, 19.6,\n",
       "        23. , 18.4, 15.6, 18.1, 17.4, 17.1, 13.3, 17.8, 14. , 14.4, 13.4,\n",
       "        15.6, 11.8, 13.8, 15.6, 14.6, 17.8, 15.4, 21.5, 19.6, 15.3, 19.4,\n",
       "        17. , 15.6, 13.1, 41.3, 24.3, 23.3, 27. , 50. , 50. , 50. , 22.7,\n",
       "        25. , 50. , 23.8, 23.8, 22.3, 17.4, 19.1, 23.1, 23.6, 22.6, 29.4,\n",
       "        23.2, 24.6, 29.9, 37.2, 39.8, 36.2, 37.9, 32.5, 26.4, 29.6, 50. ,\n",
       "        32. , 29.8, 34.9, 37. , 30.5, 36.4, 31.1, 29.1, 50. , 33.3, 30.3,\n",
       "        34.6, 34.9, 32.9, 24.1, 42.3, 48.5, 50. , 22.6, 24.4, 22.5, 24.4,\n",
       "        20. , 21.7, 19.3, 22.4, 28.1, 23.7, 25. , 23.3, 28.7, 21.5, 23. ,\n",
       "        26.7, 21.7, 27.5, 30.1, 44.8, 50. , 37.6, 31.6, 46.7, 31.5, 24.3,\n",
       "        31.7, 41.7, 48.3, 29. , 24. , 25.1, 31.5, 23.7, 23.3, 22. , 20.1,\n",
       "        22.2, 23.7, 17.6, 18.5, 24.3, 20.5, 24.5, 26.2, 24.4, 24.8, 29.6,\n",
       "        42.8, 21.9, 20.9, 44. , 50. , 36. , 30.1, 33.8, 43.1, 48.8, 31. ,\n",
       "        36.5, 22.8, 30.7, 50. , 43.5, 20.7, 21.1, 25.2, 24.4, 35.2, 32.4,\n",
       "        32. , 33.2, 33.1, 29.1, 35.1, 45.4, 35.4, 46. , 50. , 32.2, 22. ,\n",
       "        20.1, 23.2, 22.3, 24.8, 28.5, 37.3, 27.9, 23.9, 21.7, 28.6, 27.1,\n",
       "        20.3, 22.5, 29. , 24.8, 22. , 26.4, 33.1, 36.1, 28.4, 33.4, 28.2,\n",
       "        22.8, 20.3, 16.1, 22.1, 19.4, 21.6, 23.8, 16.2, 17.8, 19.8, 23.1,\n",
       "        21. , 23.8, 23.1, 20.4, 18.5, 25. , 24.6, 23. , 22.2, 19.3, 22.6,\n",
       "        19.8, 17.1, 19.4, 22.2, 20.7, 21.1, 19.5, 18.5, 20.6, 19. , 18.7,\n",
       "        32.7, 16.5, 23.9, 31.2, 17.5, 17.2, 23.1, 24.5, 26.6, 22.9, 24.1,\n",
       "        18.6, 30.1, 18.2, 20.6, 17.8, 21.7, 22.7, 22.6, 25. , 19.9, 20.8,\n",
       "        16.8, 21.9, 27.5, 21.9, 23.1, 50. , 50. , 50. , 50. , 50. , 13.8,\n",
       "        13.8, 15. , 13.9, 13.3, 13.1, 10.2, 10.4, 10.9, 11.3, 12.3,  8.8,\n",
       "         7.2, 10.5,  7.4, 10.2, 11.5, 15.1, 23.2,  9.7, 13.8, 12.7, 13.1,\n",
       "        12.5,  8.5,  5. ,  6.3,  5.6,  7.2, 12.1,  8.3,  8.5,  5. , 11.9,\n",
       "        27.9, 17.2, 27.5, 15. , 17.2, 17.9, 16.3,  7. ,  7.2,  7.5, 10.4,\n",
       "         8.8,  8.4, 16.7, 14.2, 20.8, 13.4, 11.7,  8.3, 10.2, 10.9, 11. ,\n",
       "         9.5, 14.5, 14.1, 16.1, 14.3, 11.7, 13.4,  9.6,  8.7,  8.4, 12.8,\n",
       "        10.5, 17.1, 18.4, 15.4, 10.8, 11.8, 14.9, 12.6, 14.1, 13. , 13.4,\n",
       "        15.2, 16.1, 17.8, 14.9, 14.1, 12.7, 13.5, 14.9, 20. , 16.4, 17.7,\n",
       "        19.5, 20.2, 21.4, 19.9, 19. , 19.1, 19.1, 20.1, 19.9, 19.6, 23.2,\n",
       "        29.8, 13.8, 13.3, 16.7, 12. , 14.6, 21.4, 23. , 23.7, 25. , 21.8,\n",
       "        20.6, 21.2, 19.1, 20.6, 15.2,  7. ,  8.1, 13.6, 20.1, 21.8, 24.5,\n",
       "        23.1, 19.7, 18.3, 21.2, 17.5, 16.8, 22.4, 20.6, 23.9, 22. , 11.9]),\n",
       " 'feature_names': array(['CRIM', 'ZN', 'INDUS', 'CHAS', 'NOX', 'RM', 'AGE', 'DIS', 'RAD',\n",
       "        'TAX', 'PTRATIO', 'B', 'LSTAT'], dtype='<U7'),\n",
       " 'DESCR': \".. _boston_dataset:\\n\\nBoston house prices dataset\\n---------------------------\\n\\n**Data Set Characteristics:**  \\n\\n    :Number of Instances: 506 \\n\\n    :Number of Attributes: 13 numeric/categorical predictive. Median Value (attribute 14) is usually the target.\\n\\n    :Attribute Information (in order):\\n        - CRIM     per capita crime rate by town\\n        - ZN       proportion of residential land zoned for lots over 25,000 sq.ft.\\n        - INDUS    proportion of non-retail business acres per town\\n        - CHAS     Charles River dummy variable (= 1 if tract bounds river; 0 otherwise)\\n        - NOX      nitric oxides concentration (parts per 10 million)\\n        - RM       average number of rooms per dwelling\\n        - AGE      proportion of owner-occupied units built prior to 1940\\n        - DIS      weighted distances to five Boston employment centres\\n        - RAD      index of accessibility to radial highways\\n        - TAX      full-value property-tax rate per $10,000\\n        - PTRATIO  pupil-teacher ratio by town\\n        - B        1000(Bk - 0.63)^2 where Bk is the proportion of black people by town\\n        - LSTAT    % lower status of the population\\n        - MEDV     Median value of owner-occupied homes in $1000's\\n\\n    :Missing Attribute Values: None\\n\\n    :Creator: Harrison, D. and Rubinfeld, D.L.\\n\\nThis is a copy of UCI ML housing dataset.\\nhttps://archive.ics.uci.edu/ml/machine-learning-databases/housing/\\n\\n\\nThis dataset was taken from the StatLib library which is maintained at Carnegie Mellon University.\\n\\nThe Boston house-price data of Harrison, D. and Rubinfeld, D.L. 'Hedonic\\nprices and the demand for clean air', J. Environ. Economics & Management,\\nvol.5, 81-102, 1978.   Used in Belsley, Kuh & Welsch, 'Regression diagnostics\\n...', Wiley, 1980.   N.B. Various transformations are used in the table on\\npages 244-261 of the latter.\\n\\nThe Boston house-price data has been used in many machine learning papers that address regression\\nproblems.   \\n     \\n.. topic:: References\\n\\n   - Belsley, Kuh & Welsch, 'Regression diagnostics: Identifying Influential Data and Sources of Collinearity', Wiley, 1980. 244-261.\\n   - Quinlan,R. (1993). Combining Instance-Based and Model-Based Learning. In Proceedings on the Tenth International Conference of Machine Learning, 236-243, University of Massachusetts, Amherst. Morgan Kaufmann.\\n\",\n",
       " 'filename': 'boston_house_prices.csv',\n",
       " 'data_module': 'sklearn.datasets.data'}"
      ]
     },
     "execution_count": 41,
     "metadata": {},
     "output_type": "execute_result"
    }
   ],
   "source": [
    "boston = load_boston()\n",
    "boston"
   ]
  },
  {
   "cell_type": "code",
   "execution_count": 42,
   "id": "1cccde23",
   "metadata": {},
   "outputs": [
    {
     "data": {
      "image/png": "[encoded data removed]",
      "text/plain": [
       "<Figure size 640x480 with 1 Axes>"
      ]
     },
     "metadata": {},
     "output_type": "display_data"
    }
   ],
   "source": [
    "import matplotlib.pyplot as plt\n",
    "\n",
    "plt.bar(X.columns, ls.coef_)\n",
    "plt.show()"
   ]
  },
  {
   "cell_type": "code",
   "execution_count": 43,
   "id": "bda5547d",
   "metadata": {},
   "outputs": [
    {
     "name": "stderr",
     "output_type": "stream",
     "text": [
      "c:\\Users\\Bhanu\\anaconda3\\envs\\butterfly\\lib\\site-packages\\sklearn\\utils\\deprecation.py:87: FutureWarning: Function load_boston is deprecated; `load_boston` is deprecated in 1.0 and will be removed in 1.2.\n",
      "\n",
      "    The Boston housing prices dataset has an ethical problem. You can refer to\n",
      "    the documentation of this function for further details.\n",
      "\n",
      "    The scikit-learn maintainers therefore strongly discourage the use of this\n",
      "    dataset unless the purpose of the code is to study and educate about\n",
      "    ethical issues in data science and machine learning.\n",
      "\n",
      "    In this special case, you can fetch the dataset from the original\n",
      "    source::\n",
      "\n",
      "        import pandas as pd\n",
      "        import numpy as np\n",
      "\n",
      "        data_url = \"http://lib.stat.cmu.edu/datasets/boston\"\n",
      "        raw_df = pd.read_csv(data_url, sep=\"\\s+\", skiprows=22, header=None)\n",
      "        data = np.hstack([raw_df.values[::2, :], raw_df.values[1::2, :2]])\n",
      "        target = raw_df.values[1::2, 2]\n",
      "\n",
      "    Alternative datasets include the California housing dataset (i.e.\n",
      "    :func:`~sklearn.datasets.fetch_california_housing`) and the Ames housing\n",
      "    dataset. You can load the datasets as follows::\n",
      "\n",
      "        from sklearn.datasets import fetch_california_housing\n",
      "        housing = fetch_california_housing()\n",
      "\n",
      "    for the California housing dataset and::\n",
      "\n",
      "        from sklearn.datasets import fetch_openml\n",
      "        housing = fetch_openml(name=\"house_prices\", as_frame=True)\n",
      "\n",
      "    for the Ames housing dataset.\n",
      "  warnings.warn(msg, category=FutureWarning)\n"
     ]
    }
   ],
   "source": [
    "from sklearn.datasets import load_boston\n",
    "\n",
    "\n",
    "boston = load_boston()\n",
    "X = pd.DataFrame(boston.data, columns=boston.feature_names)\n",
    "y = boston.target"
   ]
  },
  {
   "cell_type": "code",
   "execution_count": 44,
   "id": "84a6354d",
   "metadata": {},
   "outputs": [],
   "source": [
    "from sklearn.model_selection import GridSearchCV"
   ]
  },
  {
   "cell_type": "code",
   "execution_count": 45,
   "id": "ecd3a7bd",
   "metadata": {},
   "outputs": [
    {
     "name": "stdout",
     "output_type": "stream",
     "text": [
      "{'alpha': 0.81}\n"
     ]
    },
    {
     "data": {
      "image/png": "[encoded data removed]",
      "text/plain": [
       "<Figure size 640x480 with 1 Axes>"
      ]
     },
     "metadata": {},
     "output_type": "display_data"
    }
   ],
   "source": [
    "grid_params = {\"alpha\": np.arange(0.01, 10, 0.10)}\n",
    "gcv = GridSearchCV(Lasso(), grid_params, cv = 5)\n",
    "model = gcv.fit(X, y)\n",
    "print(model.best_params_)\n",
    "ls = Lasso(alpha = 0.81)\n",
    "ls.fit(X, y)\n",
    "plt.bar(boston.feature_names, ls.coef_)\n",
    "plt.show()"
   ]
  },
  {
   "cell_type": "code",
   "execution_count": 46,
   "id": "c2e907c7",
   "metadata": {},
   "outputs": [
    {
     "name": "stdout",
     "output_type": "stream",
     "text": [
      ".. _boston_dataset:\n",
      "\n",
      "Boston house prices dataset\n",
      "---------------------------\n",
      "\n",
      "**Data Set Characteristics:**  \n",
      "\n",
      "    :Number of Instances: 506 \n",
      "\n",
      "    :Number of Attributes: 13 numeric/categorical predictive. Median Value (attribute 14) is usually the target.\n",
      "\n",
      "    :Attribute Information (in order):\n",
      "        - CRIM     per capita crime rate by town\n",
      "        - ZN       proportion of residential land zoned for lots over 25,000 sq.ft.\n",
      "        - INDUS    proportion of non-retail business acres per town\n",
      "        - CHAS     Charles River dummy variable (= 1 if tract bounds river; 0 otherwise)\n",
      "        - NOX      nitric oxides concentration (parts per 10 million)\n",
      "        - RM       average number of rooms per dwelling\n",
      "        - AGE      proportion of owner-occupied units built prior to 1940\n",
      "        - DIS      weighted distances to five Boston employment centres\n",
      "        - RAD      index of accessibility to radial highways\n",
      "        - TAX      full-value property-tax rate per $10,000\n",
      "        - PTRATIO  pupil-teacher ratio by town\n",
      "        - B        1000(Bk - 0.63)^2 where Bk is the proportion of black people by town\n",
      "        - LSTAT    % lower status of the population\n",
      "        - MEDV     Median value of owner-occupied homes in $1000's\n",
      "\n",
      "    :Missing Attribute Values: None\n",
      "\n",
      "    :Creator: Harrison, D. and Rubinfeld, D.L.\n",
      "\n",
      "This is a copy of UCI ML housing dataset.\n",
      "https://archive.ics.uci.edu/ml/machine-learning-databases/housing/\n",
      "\n",
      "\n",
      "This dataset was taken from the StatLib library which is maintained at Carnegie Mellon University.\n",
      "\n",
      "The Boston house-price data of Harrison, D. and Rubinfeld, D.L. 'Hedonic\n",
      "prices and the demand for clean air', J. Environ. Economics & Management,\n",
      "vol.5, 81-102, 1978.   Used in Belsley, Kuh & Welsch, 'Regression diagnostics\n",
      "...', Wiley, 1980.   N.B. Various transformations are used in the table on\n",
      "pages 244-261 of the latter.\n",
      "\n",
      "The Boston house-price data has been used in many machine learning papers that address regression\n",
      "problems.   \n",
      "     \n",
      ".. topic:: References\n",
      "\n",
      "   - Belsley, Kuh & Welsch, 'Regression diagnostics: Identifying Influential Data and Sources of Collinearity', Wiley, 1980. 244-261.\n",
      "   - Quinlan,R. (1993). Combining Instance-Based and Model-Based Learning. In Proceedings on the Tenth International Conference of Machine Learning, 236-243, University of Massachusetts, Amherst. Morgan Kaufmann.\n",
      "\n"
     ]
    }
   ],
   "source": [
    "print(boston.DESCR)"
   ]
  }
 ],
 "metadata": {
  "kernelspec": {
   "display_name": "Python 3.9.15 ('butterfly')",
   "language": "python",
   "name": "python3"
  },
  "language_info": {
   "codemirror_mode": {
    "name": "ipython",
    "version": 3
   },
   "file_extension": ".py",
   "mimetype": "text/x-python",
   "name": "python",
   "nbconvert_exporter": "python",
   "pygments_lexer": "ipython3",
   "version": "3.9.15 (main, Nov 24 2022, 14:39:17) [MSC v.1916 64 bit (AMD64)]"
  },
  "vscode": {
   "interpreter": {
    "hash": "80759906483d9d4a0f88df62212a9cacd603a3d46c9f73e1ac51396ebf432140"
   }
  }
 },
 "nbformat": 4,
 "nbformat_minor": 5
}
